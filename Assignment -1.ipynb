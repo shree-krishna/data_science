{
  "cells": [
    {
      "metadata": {},
      "cell_type": "markdown",
      "source": "1. Write a program which will find all such numbers which are divisible by 7 but are not a multiple of 5, between 2000 and 3200 (both included). The numbers obtained should be printed in a comma-separated sequence on a single line. "
    },
    {
      "metadata": {
        "trusted": true
      },
      "cell_type": "code",
      "source": "for k in range(2000,3201):\n    if k%7==0 and k%5!=0:\n        print(k,end=\",\")\n        ",
      "execution_count": null,
      "outputs": []
    },
    {
      "metadata": {},
      "cell_type": "markdown",
      "source": "2. Write a Python program to accept the user's first and last name and then getting them printed in the the reverse order with a space between first name and last name"
    },
    {
      "metadata": {
        "trusted": false
      },
      "cell_type": "code",
      "source": "first_name=input(\"please enter you first name\")\nlast_name=input(\"enter you last name\")\nname=first_name+\" \"+last_name\nprint(name)\nprint(name[::-1])",
      "execution_count": null,
      "outputs": []
    },
    {
      "metadata": {},
      "cell_type": "markdown",
      "source": "3.Write a Python program to find the volume of a sphere with diameter 12 cm.  \n \nFormula: V=4/3 * π * r 3 "
    },
    {
      "metadata": {
        "trusted": false
      },
      "cell_type": "code",
      "source": "d=12\nr=d/2\nv=4/3*((22/7)*r**3)\nprint(v)",
      "execution_count": null,
      "outputs": []
    },
    {
      "metadata": {},
      "cell_type": "markdown",
      "source": "4.Write a program which accepts a sequence of comma-separated numbers from console and generate a list. "
    },
    {
      "metadata": {
        "trusted": false
      },
      "cell_type": "code",
      "source": "k=input(\"please enter comma separated number\")\nj=k.split(',')\nprint(j)\nli=[]\nfor i in j:\n    li.append(int(i))\nprint(li)\n       ",
      "execution_count": null,
      "outputs": []
    },
    {
      "metadata": {},
      "cell_type": "raw",
      "source": "5. Create the below pattern using nested for loop in Python. \n \n \n*  \n* *  \n* * * \n* * * *  \n* * * * *  \n* * * *  \n* * *  \n* *  \n* \n \n "
    },
    {
      "metadata": {
        "trusted": false
      },
      "cell_type": "code",
      "source": "l=input(\"enter number for pattern least number is 3\")\nl=int(l)\nfor i in range(0,l):\n    for j in range(0,i+1):\n        print(\"*\",end=\" \")\n    print(\"\\r\")\nk=l\nfor i in range(0,k):\n    for j in range(0,k-1):\n        print(\"*\",end=\" \")\n    k=k-1\n    print(\"\\r\")",
      "execution_count": null,
      "outputs": []
    },
    {
      "metadata": {},
      "cell_type": "markdown",
      "source": "6. Write a Python program to reverse a word after accepting the input from the user. \n \nSample Output: \n \nInput word: iNeuron \n \nOutput: norueNi"
    },
    {
      "metadata": {
        "trusted": false
      },
      "cell_type": "code",
      "source": "name=input(\"enter a word to reverse\")\nprint(name[::-1])",
      "execution_count": null,
      "outputs": []
    },
    {
      "metadata": {},
      "cell_type": "markdown",
      "source": "7. Write a Python Program to print the given string in the format specified in the ​sample output. \n WE, THE PEOPLE OF INDIA, having solemnly resolved to constitute India into a SOVEREIGN, SOCIALIST, SECULAR, DEMOCRATIC REPUBLIC and to secure to all its citizens \n \nSample Output: \n \nWE, THE PEOPLE OF INDIA,   having solemnly resolved to constitute India into a SOVEREIGN, !  SOCIALIST, SECULAR, DEMOCRATIC REPUBLIC    and to secure to all its citizens "
    },
    {
      "metadata": {
        "trusted": false
      },
      "cell_type": "code",
      "source": "",
      "execution_count": null,
      "outputs": []
    },
    {
      "metadata": {},
      "cell_type": "markdown",
      "source": "Note : - NOTE:​ ​The​ ​solution​ ​shared​ ​through​ ​Github​ ​should​ ​contain​ ​the​ ​source code​ ​used​ ​ and​  ​the​ ​output"
    },
    {
      "metadata": {
        "trusted": false
      },
      "cell_type": "code",
      "source": "",
      "execution_count": null,
      "outputs": []
    }
  ],
  "metadata": {
    "kernelspec": {
      "name": "python3",
      "display_name": "Python 3",
      "language": "python"
    },
    "language_info": {
      "mimetype": "text/x-python",
      "nbconvert_exporter": "python",
      "name": "python",
      "file_extension": ".py",
      "version": "3.5.4",
      "pygments_lexer": "ipython3",
      "codemirror_mode": {
        "version": 3,
        "name": "ipython"
      }
    }
  },
  "nbformat": 4,
  "nbformat_minor": 2
}